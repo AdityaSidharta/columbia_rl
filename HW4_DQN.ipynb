{
  "nbformat": 4,
  "nbformat_minor": 0,
  "metadata": {
    "colab": {
      "name": "Copy of HW4_DQN.ipynb",
      "provenance": [],
      "collapsed_sections": []
    },
    "kernelspec": {
      "name": "python3",
      "display_name": "Python 3"
    },
    "language_info": {
      "name": "python"
    },
    "accelerator": "GPU"
  },
  "cells": [
    {
      "cell_type": "markdown",
      "metadata": {
        "id": "dCn5gK-8Qhtz"
      },
      "source": [
        "#  Instruction\n",
        "\n",
        "In this notebook, we will learn how to implement DQN using Tensorflow for the [Cartpole environment in OpenAI gym](https://gym.openai.com/envs/CartPole-v0/). You are given a basic skeleton but you need to complete the code where appropriate to solve the cartpole problem.\n",
        "\n",
        "You are free to tweak the code at any part. Your are also free to tweak the hyper-parameters to improve the performance of the agent. At the end you have to evaluate the performance of the agent on 100 independent episodes on the environment and print out the average testing performance.\n",
        "\n",
        "Make sure that your final submission is a notebook that can be run from beginning to end, and that you print out the performance of the agent at the end of the notebook."
      ]
    },
    {
      "cell_type": "code",
      "metadata": {
        "id": "7-Vo-FNPRX9V"
      },
      "source": [
        "%matplotlib inline\n",
        "\n",
        "import tensorflow as tf\n",
        "from collections import deque\n",
        "import numpy as np\n",
        "import matplotlib\n",
        "import matplotlib.pyplot as plt\n",
        "import gym\n",
        "from tensorflow import keras\n",
        "from tensorflow.keras import layers\n",
        "import random\n",
        "import seaborn as sns"
      ],
      "execution_count": 1,
      "outputs": []
    },
    {
      "cell_type": "code",
      "metadata": {
        "id": "hZNKbkOPTeLs"
      },
      "source": [
        "# Parameters\n",
        "gamma = 0.99  # discount \n",
        "envname = \"CartPole-v0\"  # environment name\n",
        "env = gym.make(envname)\n",
        "obssize = env.observation_space.low.size\n",
        "actsize = env.action_space.n"
      ],
      "execution_count": 2,
      "outputs": []
    },
    {
      "cell_type": "code",
      "source": [
        "def print_debug(x):\n",
        "    debug = False\n",
        "    if debug:\n",
        "        print(x)\n",
        "    else:\n",
        "        pass"
      ],
      "metadata": {
        "id": "8BK0MRb-JHfM"
      },
      "execution_count": 3,
      "outputs": []
    },
    {
      "cell_type": "code",
      "source": [
        "print_debug(\"obssize : {}\".format(obssize))\n",
        "print_debug(\"actsize : {}\".format(actsize))"
      ],
      "metadata": {
        "id": "pGZaElUkSwDk"
      },
      "execution_count": 4,
      "outputs": []
    },
    {
      "cell_type": "markdown",
      "metadata": {
        "id": "GujIeXW2RulT"
      },
      "source": [
        "## DQN (Deep Q Network)\n",
        "\n",
        "In previous HWs, we have learned to use Tensorflow to build deep learning models. In this HW, we will apply deep learning as function approximations in reinforcement learning. \n",
        "\n",
        "Reference: DQN https://arxiv.org/abs/1312.5602\n",
        "\n",
        "\n",
        "In tabular Q-learning, we maintain a table of state-action pairs $(s,a)$ and save one action value for each entry $Q(s,a),\\forall (s,a)$. At each time step $t$, we are in state $s_t$, then we choose action based on $\\epsilon-$greedy strategy. With prob $\\epsilon$, choose action uniformly random; with prob $1-\\epsilon$, choose action based on $$a_t = \\arg\\max_a Q(s_t,a)$$ \n",
        "\n",
        "We then get the instant reward $r_t$, update the Q-table using the following rule\n",
        "\n",
        "$$Q(s_t,a_t) \\leftarrow (1-\\alpha)Q(s_t,a_t) + \\alpha (r_t + \\max_a \\gamma Q(s_{t+1},a))$$\n",
        "\n",
        "where $\\alpha \\in (0,1)$ is learning rate. The algorithm is shown to converge in tabular cases. However, in cases where we cannot keep a table for state and action, we need function approximation. Consider using neural network with parameter $\\theta$, the network takes as input state $s$ and action $a$. (*or some features of state and action*). Let $Q_\\theta(s,a)$ be the output of the network, which estimates the optimal Q-value function for state $s$ and action $a$.\n",
        "$$Q_\\theta(s,a) \\approx Q^\\ast(s,a)$$"
      ]
    },
    {
      "cell_type": "code",
      "metadata": {
        "id": "494xoDa8SLHG"
      },
      "source": [
        "def model_creator():\n",
        "    model = keras.Sequential()\n",
        "    model.add(layers.Dense(64,activation=\"relu\"))\n",
        "    model.add(layers.Dense(128,activation=\"relu\"))\n",
        "    model.add(layers.Dense(actsize,activation=\"linear\")) # you should have one output for each possible action\n",
        "    return model"
      ],
      "execution_count": 5,
      "outputs": []
    },
    {
      "cell_type": "markdown",
      "metadata": {
        "id": "a9BlBZLeSh2f"
      },
      "source": [
        "We wish to train the neural network in order to find $\\theta$ such that $Q_\\theta(s,a)$ approximates $Q^*(s,a)$. As we discussed in the class, we can use observations of form $(s_i, a_i, r_i, s'_{i})$ (i.e., observing reward $r_i$ and new state $s'_{i}$ on taking action $a_i$ in state $s_i$) for training. Based on observations, we can use stochastic gradient descent to update $\\theta$ in the direction that minimizes the loss function. Further, based on values $Q_\\theta(s,a)$, we can choose the action based on $\\epsilon$-greedy policy."
      ]
    },
    {
      "cell_type": "markdown",
      "metadata": {
        "id": "bHaI6w4BSc3Q"
      },
      "source": [
        "Formally let $d_i$ be the target for the $i$-th sample $(s_t,a_t,r_t,s_{t+1})$\n",
        "\n",
        "$$d_i =  r_t +   \\gamma \\max_a Q_\\theta(s_{t+1},a)$$\n",
        "\n",
        "We can collect a batch of $N$ samples (this generalizes the per sample update $N=1$ discusssed in class), consider the loss fucntion,\n",
        "\n",
        "$$J:=\\frac{1}{N} \\sum_{i=1}^N (Q_\\theta(s_i,a_i) - d_i)^2$$\n",
        "\n",
        "and update\n",
        "\n",
        "$$\n",
        "\\theta \\leftarrow \\theta -\\alpha \\nabla_\\theta J\n",
        "$$\n",
        "\n",
        "This procedure has been shown to be fairly unstable. In class, we discussed two techniques to stabilize the training process: target network and replay buffer.\n",
        "\n",
        "**Replay Buffer**\n",
        "Maintain a buffer $R$ to store trainsition tuples $(s_t,a_t,r_t,s_{t+1})$. When minimizing the loss, we sample batches from the replay buffer and compute gradients for update on these batches. In particular, in each update, we sample $N$ tuples $(s_t,a_t,r_t,s_{t+1})$ from buffer $R$ and then minimize the\n",
        "loss \n",
        "\n",
        "$$\\frac{1}{N} \\sum_{i=1}^N (Q_\\theta(s_i,a_i) -  (r_i + \\gamma \\max_a Q_\\theta(s_i^\\prime,a))^2$$\n",
        "\n",
        "and update parameters.\n",
        "\n",
        "**Target Network**\n",
        "Maintain a target network in addition to the original principal network. The target network is just a copy of the original network but the parameters are not updated by gradients. The target network $\\theta^{-}$ is copied from the principal network every $\\tau$ time steps. Target network is used to compute the targets for update\n",
        "\n",
        "$$d_i = \\max_a r_t + \\gamma Q_{\\theta^{-}}(s_{i}^\\prime,a)$$\n",
        "\n",
        "the targets are used in the loss function to update the principal network parameters. This slowly updated target network ensures that the targets come from a relatively stationary distribution and hence stabilize learning."
      ]
    },
    {
      "cell_type": "code",
      "metadata": {
        "id": "WKt2Mt6TTZsk"
      },
      "source": [
        "batch_size = 32\n",
        "# Model used for selecting actions (principal)\n",
        "model = model_creator()\n",
        "# Then create the target model. This will periodically be copied from the principal network \n",
        "model_target = model_creator()\n",
        "\n",
        "model.build((batch_size,obssize,))\n",
        "model_target.build((batch_size,obssize,))"
      ],
      "execution_count": 6,
      "outputs": []
    },
    {
      "cell_type": "code",
      "source": [
        "model.summary()"
      ],
      "metadata": {
        "id": "_NqnOoqwUayJ",
        "outputId": "48c64e70-ddbd-45e6-e71a-351792775a3f",
        "colab": {
          "base_uri": "https://localhost:8080/"
        }
      },
      "execution_count": 7,
      "outputs": [
        {
          "output_type": "stream",
          "name": "stdout",
          "text": [
            "Model: \"sequential\"\n",
            "_________________________________________________________________\n",
            " Layer (type)                Output Shape              Param #   \n",
            "=================================================================\n",
            " dense (Dense)               (32, 64)                  320       \n",
            "                                                                 \n",
            " dense_1 (Dense)             (32, 128)                 8320      \n",
            "                                                                 \n",
            " dense_2 (Dense)             (32, 2)                   258       \n",
            "                                                                 \n",
            "=================================================================\n",
            "Total params: 8,898\n",
            "Trainable params: 8,898\n",
            "Non-trainable params: 0\n",
            "_________________________________________________________________\n"
          ]
        }
      ]
    },
    {
      "cell_type": "markdown",
      "metadata": {
        "id": "0JA7a0AXiVO7"
      },
      "source": [
        "- Complete the code below to learn an Agent using DQN. \n",
        "- You should tweak the Neural network appropriately to achieve a good reward (>100). Ideally you would want to have a reward close to 200.\n",
        "- The reference paper performs updates every 4 actions. You can experiment with this parameter to speed up the learning\n",
        "- You can experiment with other parameters as well, like learning rate, memory size, different exploration schemes (e.g., adaptive $\\epsilon$ or strategic explorations with bonus rewards) and others.\n",
        "\n",
        "- As we mentioned in class, there are multiple ways to improve the efficiency even further. OPTIONALLY you can experiment with these:\n",
        "  - Prioritized Replay buffer.\n",
        "  - Double DQN \n",
        "  -Dueling DQN architecture.\n",
        "\n",
        "- In case you need to debug your code you can try printing relevant information as the training happens. For example although the performance might vary from iteration to iteration, the average Q values might increase overtime in a more smooth way. This is discussed in the refernece paper\n",
        "\n",
        "- Create a plot of the running reward sampled throughout the training at the frequency of your choice at the end of the training\n",
        "- OPTIONALLY you can create a plot for the average Q-values of the principal Q-network sampled at the frequency of your choice\n",
        "\n",
        "- Ideally you want to learn with as few episodes as possible. However you will not be graded on sample efficiency in this homework. You encouraged to try to learn efficiently though.\n",
        "\n",
        "- Note that the skeleton code includes the GradientTape construct to do the learning. Take a look [here](https://www.tensorflow.org/api_docs/python/tf/GradientTape) for an explanation of GradientTape. It allows for more flexibility than model.fit. Also it uses Adam (Adaptive Moment Estimation) for Stochastic Gradient Descent optimizer. "
      ]
    },
    {
      "cell_type": "code",
      "metadata": {
        "id": "Kn81y4Iz_QlJ",
        "outputId": "98140f5c-b5a1-4d1f-8d85-d1dabbfa2e73",
        "colab": {
          "base_uri": "https://localhost:8080/"
        }
      },
      "source": [
        "optimizer = keras.optimizers.Adam(learning_rate=0.0005)\n",
        "\n",
        "# Our Experience Replay memory \n",
        "action_history = []\n",
        "state_history = []\n",
        "state_next_history = []\n",
        "rewards_history = []\n",
        "done_history = []\n",
        "episode_reward_history = []\n",
        "loss_history = []\n",
        "q_predict_history = []\n",
        "q_target_history = []\n",
        "full_reward_history = []\n",
        "\n",
        "# Replay memory size\n",
        "max_memory = 1000 # You can experiment with different sizes.\n",
        "\n",
        "running_reward = 0\n",
        "running_loss = 0\n",
        "episode_count = 0\n",
        "timestep_count = 0\n",
        "running_q_predict = 0\n",
        "running_q_target = 0\n",
        "\n",
        "# how often to train your model - this allows you to speed up learning\n",
        "# by not performing in every iteration learning. See also refernece paper\n",
        "# you can set this value to other values like 1 as well to learn every time \n",
        "\n",
        "update_after_actions = 2\n",
        "\n",
        "# How often to update the target network\n",
        "record_reward_every = 1\n",
        "target_update_every = 1000\n",
        "loss_function = keras.losses.MeanSquaredError() # You can use the Huber loss function or the mean squared error function \n",
        "max_episodes = 500\n",
        "max_steps_per_episode = 1000\n",
        "last_n_reward = 100\n",
        "penalty = 3.\n",
        "\n",
        "epsilon = 1.\n",
        "min_epsilon = 0.01\n",
        "epsilon_decay = 0.99\n",
        "\n",
        "for episode in range(max_episodes):\n",
        "    state = np.array(env.reset())\n",
        "    episode_reward = 0\n",
        "    epsilon = epsilon * epsilon_decay\n",
        "    epsilon = max(epsilon, min_epsilon)\n",
        "    for timestep in range(1, max_steps_per_episode):\n",
        "        timestep_count += 1\n",
        "        prob = np.random.random()\n",
        "        if prob < epsilon:\n",
        "            # Take random action\n",
        "            action = np.random.choice(actsize)\n",
        "        else:\n",
        "            # Predict action Q-values\n",
        "            # From environment state\n",
        "            state_t = tf.convert_to_tensor(state)\n",
        "            state_t = tf.expand_dims(state_t, 0)\n",
        "            action_vals = model(state_t, training=False)\n",
        "            action = tf.math.argmax(tf.squeeze(action_vals)).numpy().item()\n",
        "\n",
        "        # follow selected action\n",
        "        state_next, reward, done, _ = env.step(action)\n",
        "        state_next = np.array(state_next)\n",
        "        episode_reward += reward\n",
        "\n",
        "        # Save action/states and other information in replay buffer\n",
        "        action_history.append(action)\n",
        "        state_history.append(state)\n",
        "        state_next_history.append(state_next)\n",
        "        rewards_history.append(reward)\n",
        "        done_history.append(done)\n",
        "        episode_reward_history.append(episode_reward)\n",
        "\n",
        "        state = state_next\n",
        "\n",
        "        # Update every Xth frame to speed up (optional)\n",
        "        # and if you have sufficient history\n",
        "        if timestep_count % update_after_actions == 0 and len(action_history) > batch_size:\n",
        "\n",
        "            n_history = len(action_history)\n",
        "            indices = list(range(n_history))\n",
        "            sampled_indices = random.sample(indices, batch_size)\n",
        "\n",
        "            #  Sample a set of batch_size memories from the history\n",
        "            state_sample = np.array([state_history[x] for x in sampled_indices])\n",
        "            state_next_sample = np.array([state_next_history[x] for x in sampled_indices])\n",
        "            rewards_sample = np.array([rewards_history[x] for x in sampled_indices])\n",
        "            action_sample = np.array([action_history[x] for x in sampled_indices])\n",
        "            done_sample = np.array([done_history[x] for x in sampled_indices])\n",
        "\n",
        "            Q_next_state = model_target(tf.convert_to_tensor(state_next_sample), training=False).numpy().max(axis=1)\n",
        "            Q_targets = tf.convert_to_tensor(rewards_sample + (gamma * Q_next_state))\n",
        "            print_debug(\"reward_sample : {}\".format(rewards_sample))\n",
        "            print_debug(\"Q_targets : {}\".format(Q_targets))\n",
        "            Q_targets = Q_targets * (1 - done_sample) - penalty * done_sample\n",
        "\n",
        "            # What actions are relevant and need updating\n",
        "            relevant_actions = tf.one_hot(action_sample, actsize)\n",
        "            # we will use Gradient tape to do a custom gradient \n",
        "            # in the `with` environment we will record a set of operations\n",
        "            # and then we will take gradients with respect to the trainable parameters\n",
        "            # in the neural network\n",
        "            with tf.GradientTape() as tape:\n",
        "                # Train the model on your action selecting network\n",
        "                q_values = model(state_sample) \n",
        "                # We consider only the relevant actions\n",
        "                Q_of_actions = tf.reduce_sum(tf.multiply(q_values, relevant_actions), axis=1)\n",
        "                print_debug(\"relevant_actions : {}\".format(relevant_actions))\n",
        "                print_debug(\"Q_of_actions : {}\".format(Q_of_actions))\n",
        "                # Calculate loss between principal network and target network\n",
        "                loss = loss_function(Q_targets, Q_of_actions)\n",
        "                print_debug(\"loss : {}\".format(loss))\n",
        "\n",
        "            # Nudge the weights of the trainable variables towards \n",
        "            grads = tape.gradient(loss, model.trainable_variables)\n",
        "            optimizer.apply_gradients(zip(grads, model.trainable_variables))\n",
        "            loss_history.append(loss.numpy().item())\n",
        "            q_predict_history.append(Q_of_actions.numpy().mean())\n",
        "            q_target_history.append(Q_targets.numpy().mean())\n",
        "\n",
        "        if timestep_count % target_update_every == 0:\n",
        "            # update the the target network with new weights\n",
        "            model_target.set_weights(model.get_weights())\n",
        "            # Log details\n",
        "            template = \"running reward: {:.2f} at episode {}, frame count {}, epsilon {}, loss_history {}, q_predict {}, q_target {}\"\n",
        "            print(template.format(running_reward, episode_count, timestep_count, epsilon, running_loss, running_q_predict, running_q_target))\n",
        "\n",
        "        # Don't let the memory grow beyond the limit\n",
        "        if len(rewards_history) > max_memory:\n",
        "            del rewards_history[:1]\n",
        "            del state_history[:1]\n",
        "            del state_next_history[:1]\n",
        "            del action_history[:1]\n",
        "            del done_history[:1]\n",
        "\n",
        "        if done: \n",
        "            break\n",
        "\n",
        "    # reward of last 100\n",
        "    episode_reward_history.append(episode_reward)\n",
        "    if len(episode_reward_history) > last_n_reward: \n",
        "        del episode_reward_history[:1]\n",
        "    running_reward = np.mean(episode_reward_history)\n",
        "    episode_count += 1\n",
        "    if episode_count % record_reward_every == 0:\n",
        "        full_reward_history.append(episode_reward)\n",
        "    running_loss = np.mean(loss_history)\n",
        "    running_q_predict = np.mean(q_predict_history)\n",
        "    running_q_target = np.mean(q_target_history)\n",
        "\n",
        "    # If you want to stop your training once you achieve the reward you want you can\n",
        "    # have an if statement here. Alternatively you can stop after a fixed number\n",
        "    # of episodes."
      ],
      "execution_count": 8,
      "outputs": [
        {
          "output_type": "stream",
          "name": "stderr",
          "text": [
            "/usr/local/lib/python3.7/dist-packages/numpy/core/fromnumeric.py:3441: RuntimeWarning: Mean of empty slice.\n",
            "  out=out, **kwargs)\n",
            "/usr/local/lib/python3.7/dist-packages/numpy/core/_methods.py:189: RuntimeWarning: invalid value encountered in double_scalars\n",
            "  ret = ret.dtype.type(ret / rcount)\n"
          ]
        },
        {
          "output_type": "stream",
          "name": "stdout",
          "text": [
            "running reward: 11.93 at episode 58, frame count 1000, epsilon 0.5526834771623851, loss_history 0.8651453799324659, q_predict 0.7149983644485474, q_target 0.8193009350987425\n",
            "running reward: 19.23 at episode 88, frame count 2000, epsilon 0.40882017442254937, loss_history 0.7227969059921228, q_predict 1.2086701393127441, q_target 1.266821061071038\n",
            "running reward: 25.90 at episode 105, frame count 3000, epsilon 0.34461218334751764, loss_history 0.6288924561677074, q_predict 1.7365140914916992, q_target 1.7781479391598527\n",
            "running reward: 40.54 at episode 113, frame count 4000, epsilon 0.3179890638191435, loss_history 0.5223666549576503, q_predict 2.2873332500457764, q_target 2.3206605811222323\n",
            "running reward: 50.41 at episode 119, frame count 5000, epsilon 0.29938039131233124, loss_history 0.4839394021201954, q_predict 2.822094678878784, q_target 2.8499157180602217\n",
            "running reward: 57.43 at episode 124, frame count 6000, epsilon 0.2847077732731954, loss_history 0.44929741880908264, q_predict 3.2900776863098145, q_target 3.3146263865904264\n",
            "running reward: 60.67 at episode 131, frame count 7000, epsilon 0.2653662497477053, loss_history 0.4469516904505325, q_predict 3.7772891521453857, q_target 3.7993986619853755\n",
            "running reward: 64.63 at episode 138, frame count 8000, epsilon 0.24733868589386815, loss_history 0.42984898934577687, q_predict 4.328370571136475, q_target 4.34807076063116\n",
            "running reward: 67.91 at episode 143, frame count 9000, epsilon 0.2352166292404101, loss_history 0.4298708122851356, q_predict 4.777788162231445, q_target 4.796133092282256\n",
            "running reward: 69.94 at episode 150, frame count 10000, epsilon 0.21923726936647234, loss_history 0.4426117336060807, q_predict 5.264251232147217, q_target 5.281134770652696\n",
            "running reward: 72.80 at episode 155, frame count 11000, epsilon 0.20849246173476127, loss_history 0.45773880892477037, q_predict 5.721992015838623, q_target 5.737857597022175\n",
            "running reward: 73.52 at episode 161, frame count 12000, epsilon 0.1962915140230253, loss_history 0.4737807548075145, q_predict 6.152162075042725, q_target 6.167188137487654\n",
            "running reward: 75.31 at episode 167, frame count 13000, epsilon 0.18480456394854633, loss_history 0.4962482890400196, q_predict 6.6586408615112305, q_target 6.672751755450879\n",
            "running reward: 76.74 at episode 172, frame count 14000, epsilon 0.17574730149117582, loss_history 0.506295840325166, q_predict 7.0932111740112305, q_target 7.106613377301347\n",
            "running reward: 78.36 at episode 177, frame count 15000, epsilon 0.16713393501488363, loss_history 0.5111598209097358, q_predict 7.505289077758789, q_target 7.518076474701826\n",
            "running reward: 79.67 at episode 182, frame count 16000, epsilon 0.15894270919978754, loss_history 0.5075218674371776, q_predict 7.87343692779541, q_target 7.885707860484951\n",
            "running reward: 80.96 at episode 187, frame count 17000, epsilon 0.15115293495314713, loss_history 0.5099258726114511, q_predict 8.24670696258545, q_target 8.25838824475832\n",
            "running reward: 82.10 at episode 192, frame count 18000, epsilon 0.14374493715362485, loss_history 0.5442339072633419, q_predict 8.695155143737793, q_target 8.70640751471616\n",
            "running reward: 83.02 at episode 197, frame count 19000, epsilon 0.13670000495659804, loss_history 0.6238278174932127, q_predict 9.145864486694336, q_target 9.156664908274788\n",
            "running reward: 83.95 at episode 202, frame count 20000, epsilon 0.13000034453500542, loss_history 0.6973576809988428, q_predict 9.607852935791016, q_target 9.618346095741604\n",
            "running reward: 84.75 at episode 207, frame count 21000, epsilon 0.123629034136362, loss_history 0.7371366960070641, q_predict 10.024511337280273, q_target 10.034657267186605\n",
            "running reward: 85.51 at episode 212, frame count 22000, epsilon 0.11756998134242772, loss_history 0.7782477568720405, q_predict 10.441762924194336, q_target 10.451644919421433\n",
            "running reward: 85.55 at episode 221, frame count 23000, epsilon 0.1074022057426376, loss_history 0.8477692308142222, q_predict 10.836663246154785, q_target 10.846237806944893\n",
            "running reward: 86.22 at episode 226, frame count 24000, epsilon 0.10213842899856099, loss_history 0.9019671009397925, q_predict 11.227638244628906, q_target 11.23693423873885\n",
            "running reward: 86.83 at episode 231, frame count 25000, epsilon 0.09713262969004913, loss_history 0.9247033556713522, q_predict 11.619638442993164, q_target 11.628807902171435\n",
            "running reward: 87.39 at episode 236, frame count 26000, epsilon 0.09237216435585804, loss_history 0.9562901943158455, q_predict 12.00100326538086, q_target 12.009911650531361\n",
            "running reward: 87.87 at episode 241, frame count 27000, epsilon 0.08784500919014843, loss_history 0.9398840748282505, q_predict 12.301264762878418, q_target 12.309877109433787\n",
            "running reward: 88.14 at episode 246, frame count 28000, epsilon 0.0835397296732052, loss_history 0.9169497485221345, q_predict 12.545975685119629, q_target 12.554376747849597\n",
            "running reward: 88.23 at episode 252, frame count 29000, epsilon 0.07865099717364837, loss_history 0.8905909022418598, q_predict 12.830475807189941, q_target 12.838668810894712\n",
            "running reward: 88.39 at episode 258, frame count 30000, epsilon 0.07404835256958411, loss_history 0.8680606391032566, q_predict 13.13519287109375, q_target 13.143138171485031\n",
            "running reward: 88.44 at episode 263, frame count 31000, epsilon 0.07041924650516158, loss_history 0.8511730039225683, q_predict 13.39653205871582, q_target 13.40431242357298\n",
            "running reward: 88.51 at episode 269, frame count 32000, epsilon 0.06629832272038537, loss_history 0.8316877817120458, q_predict 13.70758056640625, q_target 13.715143556412238\n",
            "running reward: 88.40 at episode 275, frame count 33000, epsilon 0.06241855477982412, loss_history 0.8134201593801526, q_predict 13.998082160949707, q_target 14.005471582721379\n",
            "running reward: 88.26 at episode 281, frame count 34000, epsilon 0.058765830279503314, loss_history 0.7984523037296345, q_predict 14.280195236206055, q_target 14.287420845345766\n",
            "running reward: 88.01 at episode 287, frame count 35000, epsilon 0.055326862671220584, loss_history 0.7853938336672645, q_predict 14.554960250854492, q_target 14.562009959621115\n",
            "running reward: 87.66 at episode 294, frame count 36000, epsilon 0.05156825150425347, loss_history 0.7722572360469856, q_predict 14.864989280700684, q_target 14.871918538396525\n",
            "running reward: 87.32 at episode 301, frame count 37000, epsilon 0.048064980279267165, loss_history 0.7607513142616693, q_predict 15.17969036102295, q_target 15.186472908907087\n",
            "running reward: 86.90 at episode 308, frame count 38000, epsilon 0.04479970256613776, loss_history 0.7479146857158171, q_predict 15.471161842346191, q_target 15.477768102384282\n",
            "running reward: 86.52 at episode 315, frame count 39000, epsilon 0.04175625035843686, loss_history 0.7387441527556339, q_predict 15.77328872680664, q_target 15.779765534018747\n",
            "running reward: 86.33 at episode 322, frame count 40000, epsilon 0.03891955401762781, loss_history 0.7227039630981642, q_predict 16.100914001464844, q_target 16.107258983456344\n",
            "running reward: 86.25 at episode 328, frame count 41000, epsilon 0.03664198753113651, loss_history 0.7067298487652589, q_predict 16.394046783447266, q_target 16.400265658501755\n",
            "running reward: 86.30 at episode 333, frame count 42000, epsilon 0.03484616555067068, loss_history 0.6930008264134715, q_predict 16.65967559814453, q_target 16.665786720231626\n",
            "running reward: 86.47 at episode 339, frame count 43000, epsilon 0.03280697314869741, loss_history 0.6759505856911392, q_predict 16.992528915405273, q_target 16.998491004857822\n",
            "running reward: 86.54 at episode 345, frame count 44000, epsilon 0.030887113981430233, loss_history 0.6600423047462246, q_predict 17.307390213012695, q_target 17.313225406688044\n",
            "running reward: 86.51 at episode 351, frame count 45000, epsilon 0.02907960468580265, loss_history 0.6455867633546885, q_predict 17.59716033935547, q_target 17.602875714473594\n",
            "running reward: 86.44 at episode 357, frame count 46000, epsilon 0.027377870564111496, loss_history 0.6320136933808961, q_predict 17.874404907226562, q_target 17.88001129932779\n",
            "running reward: 86.39 at episode 363, frame count 47000, epsilon 0.02577572166898093, loss_history 0.6189087577465175, q_predict 18.150243759155273, q_target 18.155741135672923\n",
            "running reward: 86.40 at episode 369, frame count 48000, epsilon 0.024267330287830756, loss_history 0.6058628714288702, q_predict 18.43959617614746, q_target 18.444989917675574\n",
            "running reward: 86.42 at episode 374, frame count 49000, epsilon 0.02307798964136395, loss_history 0.5953064655380069, q_predict 18.68245506286621, q_target 18.687761419837493\n",
            "running reward: 86.51 at episode 380, frame count 50000, epsilon 0.021727469135426065, loss_history 0.582708423197848, q_predict 18.98433494567871, q_target 18.989539065866587\n",
            "running reward: 86.55 at episode 386, frame count 51000, epsilon 0.020455980887726547, loss_history 0.5709830264961052, q_predict 19.275659561157227, q_target 19.280761989236098\n",
            "running reward: 86.56 at episode 392, frame count 52000, epsilon 0.019258899942320787, loss_history 0.5599316730711752, q_predict 19.56185531616211, q_target 19.566867709005006\n",
            "running reward: 86.57 at episode 397, frame count 53000, epsilon 0.01831502221716675, loss_history 0.5515225389945947, q_predict 19.79945182800293, q_target 19.80440060998586\n",
            "running reward: 86.71 at episode 403, frame count 54000, epsilon 0.01724322985330079, loss_history 0.5412171175705371, q_predict 20.1092529296875, q_target 20.114099718957068\n",
            "running reward: 86.93 at episode 408, frame count 55000, epsilon 0.016398140018627688, loss_history 0.5330183032766459, q_predict 20.384056091308594, q_target 20.38883346981174\n",
            "running reward: 87.06 at episode 413, frame count 56000, epsilon 0.015594467994581935, loss_history 0.5245860631909388, q_predict 20.641441345214844, q_target 20.64614925585857\n",
            "running reward: 87.21 at episode 418, frame count 57000, epsilon 0.014830183896331426, loss_history 0.5160702099486241, q_predict 20.894283294677734, q_target 20.898922477125666\n",
            "running reward: 87.40 at episode 424, frame count 58000, epsilon 0.013962323750362413, loss_history 0.5060888495972705, q_predict 21.20255470275879, q_target 21.20711159537371\n",
            "running reward: 87.56 at episode 429, frame count 59000, epsilon 0.013278030960077106, loss_history 0.4992981942840292, q_predict 21.458471298217773, q_target 21.46297650096358\n",
            "running reward: 87.79 at episode 434, frame count 60000, epsilon 0.01262727532529747, loss_history 0.5184313091245291, q_predict 21.767589569091797, q_target 21.772044442768312\n",
            "running reward: 88.02 at episode 439, frame count 61000, epsilon 0.01200841319170568, loss_history 0.6709935906439712, q_predict 22.16315460205078, q_target 22.16757695879936\n",
            "running reward: 88.06 at episode 445, frame count 62000, epsilon 0.011305682645796004, loss_history 0.8331000224152494, q_predict 22.563934326171875, q_target 22.568300124269285\n",
            "running reward: 87.97 at episode 451, frame count 63000, epsilon 0.010644075786444315, loss_history 0.9431387798553738, q_predict 22.89706802368164, q_target 22.901570993377142\n",
            "running reward: 87.96 at episode 457, frame count 64000, epsilon 0.01002118606165716, loss_history 1.0191791524589333, q_predict 23.244770050048828, q_target 23.249212513326555\n",
            "running reward: 88.05 at episode 462, frame count 65000, epsilon 0.01, loss_history 1.0606628046319417, q_predict 23.54242706298828, q_target 23.54688439134155\n",
            "running reward: 88.17 at episode 467, frame count 66000, epsilon 0.01, loss_history 1.1163355342225276, q_predict 23.83165740966797, q_target 23.83599531083007\n",
            "running reward: 88.16 at episode 473, frame count 67000, epsilon 0.01, loss_history 1.1574874358529994, q_predict 24.137767791748047, q_target 24.14210367111853\n",
            "running reward: 87.86 at episode 481, frame count 68000, epsilon 0.01, loss_history 1.2063147955141815, q_predict 24.45986557006836, q_target 24.464150636052228\n",
            "running reward: 87.89 at episode 487, frame count 69000, epsilon 0.01, loss_history 1.2704840425089932, q_predict 24.791656494140625, q_target 24.795902309417976\n",
            "running reward: 88.08 at episode 492, frame count 70000, epsilon 0.01, loss_history 1.4214042242968774, q_predict 25.153085708618164, q_target 25.157260498326117\n",
            "running reward: 88.27 at episode 497, frame count 71000, epsilon 0.01, loss_history 1.4780952283796298, q_predict 25.450456619262695, q_target 25.454666017271755\n"
          ]
        }
      ]
    },
    {
      "cell_type": "markdown",
      "metadata": {
        "id": "Y-kUmOPTiMXX"
      },
      "source": [
        "Evaluate the performance of the agent on 100 episodes on the environment and print out the average testing performance. Alternatively you can make sure the code above terminates with 100 episodes where there is no exploration at all (epsilon=0)."
      ]
    },
    {
      "cell_type": "code",
      "source": [
        "sns.set()\n",
        "plt.plot(range(len(q_predict_history)), q_predict_history)\n",
        "plt.title(\"Q value prediction against frame count\")\n",
        "plt.show()"
      ],
      "metadata": {
        "colab": {
          "base_uri": "https://localhost:8080/",
          "height": 284
        },
        "id": "ZGqrAEzRNRsP",
        "outputId": "df4e9961-4ea2-478d-8d68-0bb5b2d19f93"
      },
      "execution_count": 16,
      "outputs": [
        {
          "output_type": "display_data",
          "data": {
            "text/plain": [
              "<Figure size 432x288 with 1 Axes>"
            ],
            "image/png": "[encoded data removed]"
          },
          "metadata": {}
        }
      ]
    },
    {
      "cell_type": "code",
      "source": [
        "sns.set()\n",
        "plt.plot(range(len(full_reward_history)), full_reward_history)\n",
        "plt.title(\"full_reward_history against episode count\")\n",
        "plt.show()"
      ],
      "metadata": {
        "colab": {
          "base_uri": "https://localhost:8080/",
          "height": 284
        },
        "id": "H83AtyLAZcQK",
        "outputId": "0ec6c8e7-6b90-4ade-9770-4925d7793b9d"
      },
      "execution_count": 17,
      "outputs": [
        {
          "output_type": "display_data",
          "data": {
            "text/plain": [
              "<Figure size 432x288 with 1 Axes>"
            ],
            "image/png": "[encoded data removed]"
          },
          "metadata": {}
        }
      ]
    },
    {
      "cell_type": "code",
      "metadata": {
        "id": "xe2V09jdiNXI"
      },
      "source": [
        "rewards = []\n",
        "\n",
        "for episode in range(100):\n",
        "    state = np.array(env.reset())\n",
        "    episode_reward = 0\n",
        "    for timestep in range(1, 1000):\n",
        "        state_t = tf.convert_to_tensor(state)\n",
        "        state_t = tf.expand_dims(state_t, 0)\n",
        "        action_vals = model(state_t, training=False)\n",
        "        action = tf.math.argmax(tf.squeeze(action_vals)).numpy().item()\n",
        "\n",
        "        # follow selected action\n",
        "        state_next, reward, done, _ = env.step(action)\n",
        "        state_next = np.array(state_next)\n",
        "        episode_reward += reward\n",
        "        state = state_next\n",
        "        if done:\n",
        "            break\n",
        "    rewards.append(episode_reward)"
      ],
      "execution_count": 9,
      "outputs": []
    },
    {
      "cell_type": "code",
      "source": [
        "sns.set()\n",
        "plt.hist(rewards)\n",
        "plt.title(\"Distribution of Rewards across 100 Episodes\")\n",
        "plt.show()"
      ],
      "metadata": {
        "colab": {
          "base_uri": "https://localhost:8080/",
          "height": 284
        },
        "id": "5Oz3duHNEE2L",
        "outputId": "fb359a75-8ed7-4a9c-b4f5-8405efc9e8aa"
      },
      "execution_count": 10,
      "outputs": [
        {
          "output_type": "display_data",
          "data": {
            "text/plain": [
              "<Figure size 432x288 with 1 Axes>"
            ],
            "image/png": "[encoded data removed]"
          },
          "metadata": {}
        }
      ]
    }
  ]
}