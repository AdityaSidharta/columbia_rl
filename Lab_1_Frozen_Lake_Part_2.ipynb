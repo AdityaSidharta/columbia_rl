{
 "cells": [
  {
   "cell_type": "markdown",
   "id": "auburn-pittsburgh",
   "metadata": {
    "id": "auburn-pittsburgh",
    "tags": []
   },
   "source": [
    "# Lab 1 - FrozenLake MDP: Part 2 \n",
    "# Assignment\n",
    "\n",
    "- In this assignment you will learn how to tackle problems with limited state spaces.\n",
    "- In particular we consider the FrozenLake MDP problem.\n",
    "\n",
    "# Outline\n",
    "\n",
    "- Part 0 introduced us to [gym](https://gym.openai.com/), an environment that allows us to test our reinforcement learning algorithms in various problems\n",
    "- In Part 1, you implemented a policy iteration algorithm (in previous homework HW1)\n",
    "- In Part 2, you will implement Q-Learning and SARSA (This homework HW2) \n",
    "\n",
    "# Deliverable\n",
    "\n",
    "Regarding the Lab:\n",
    "\n",
    "- Make sure your code runs from top to bottom without any errors.\n",
    "- Your submitted Notebook must contain saved outputs."
   ]
  },
  {
   "cell_type": "markdown",
   "id": "medium-dancing",
   "metadata": {
    "id": "medium-dancing"
   },
   "source": [
    "# Recall: FrozenLake-v0 environment in Gym\n",
    "- We look at [FrozenLake-v0 environment](https://gym.openai.com/envs/FrozenLake-v0/) in gym. \n",
    "- You don't need to write any code for this part\n",
    "- you should still understand the code to help you solve Part 2\n"
   ]
  },
  {
   "cell_type": "code",
   "execution_count": 138,
   "id": "necessary-character",
   "metadata": {
    "id": "necessary-character"
   },
   "outputs": [],
   "source": [
    "import os\n",
    "# You will need numpy and gym. You can try running the following lines to install them\n",
    "# The assignment is tested on Python3.8 so in case you are having installation issues you might \n",
    "# want to try installing that version. \n",
    "\n",
    "# !{os.sys.executable} -m pip install numpy\n",
    "# !{os.sys.executable} -m pip install gym==0.17.3\n",
    "import gym\n",
    "import numpy as np"
   ]
  },
  {
   "cell_type": "code",
   "execution_count": 2,
   "id": "considerable-swing",
   "metadata": {
    "id": "considerable-swing"
   },
   "outputs": [
    {
     "name": "stdout",
     "output_type": "stream",
     "text": [
      "Number of States 16, Number of Actions 4\n",
      "Reward range (0, 1)\n"
     ]
    }
   ],
   "source": [
    "# Import the environment we will use in this assignment\n",
    "env=gym.make('FrozenLake-v0') \n",
    "\n",
    "# Note: If you have installed the newest gym version, FrozenLake-v0 might not be available. In this case, instead of env=gym.make('FrozenLake-v0') you can use:\n",
    "# env=gym.make('FrozenLake-v1',is_slippery=True)\n",
    "\n",
    "# Show the model\n",
    "print(f\"Number of States {env.nS}, Number of Actions {env.nA}\")\n",
    "print(f\"Reward range {env.reward_range}\")"
   ]
  },
  {
   "cell_type": "code",
   "execution_count": 3,
   "id": "severe-conjunction",
   "metadata": {
    "id": "severe-conjunction"
   },
   "outputs": [
    {
     "data": {
      "text/plain": [
       "0"
      ]
     },
     "execution_count": 3,
     "metadata": {},
     "output_type": "execute_result"
    }
   ],
   "source": [
    "env.reset() # reset the environment "
   ]
  },
  {
   "cell_type": "code",
   "execution_count": 4,
   "id": "endless-cassette",
   "metadata": {
    "id": "endless-cassette"
   },
   "outputs": [
    {
     "name": "stdout",
     "output_type": "stream",
     "text": [
      "\n",
      "\u001b[41mS\u001b[0mFFF\n",
      "FHFH\n",
      "FFFH\n",
      "HFFG\n"
     ]
    }
   ],
   "source": [
    "# visualize the current state\n",
    "env.render()"
   ]
  },
  {
   "cell_type": "markdown",
   "id": "obvious-implementation",
   "metadata": {
    "id": "obvious-implementation"
   },
   "source": [
    "# Part 2 - Model-Free Control\n",
    "\n",
    "Recall that in Part 1 you implemented Policy Iteration with Policy Evaluation and Policy Improvement. However this required knowledge of the model (i.e. `env.P`). In this section we study methods that do not require knowing the model."
   ]
  },
  {
   "cell_type": "markdown",
   "id": "expired-promotion",
   "metadata": {
    "id": "expired-promotion"
   },
   "source": [
    "# Q-Learning\n",
    "* In this part you will implement Q-Learning with epsilon-greedy exploration to find the optimal policy.  \n",
    "  * You can experiment with fixed and adaptive learning rate and epsilon\n",
    "  * Report your best result and mention the differences you observed in answer to final questions\n"
   ]
  },
  {
   "cell_type": "code",
   "execution_count": 6,
   "id": "focal-capability",
   "metadata": {
    "id": "focal-capability"
   },
   "outputs": [],
   "source": [
    "# Initialize Running Parameters. \n",
    "# You should try to maintain the *number of episodes* and *max length of episode* at these numbers for your final results\n",
    "# However feel free to modify them for debugging purposes\n",
    "num_episodes       = 5000\n",
    "episode_max_length = 100\n",
    "\n",
    "# initialize discount factor and learning rate\n",
    "gamma     = 0.95\n",
    "learnRate = 0.8\n",
    "epsilon = 1.\n",
    "min_epsilon = 0.001\n",
    "epsilon_decay = 0.999\n",
    "\n",
    "#create Q table\n",
    "Q=np.zeros([env.nS,env.nA]) #matrix Q[s,a]\n",
    "reward_of_episodes = [] # list containing total reward of each episode (these rewards don't need to be discounted)\n",
    "epsilons = []\n",
    "\n",
    "#execute in episodes\n",
    "for episode in range(num_episodes):\n",
    "    # reset the environment at the beginning of an episode\n",
    "    state = env.reset()\n",
    "    rewards = 0\n",
    "\n",
    "    for t in range(episode_max_length):\n",
    "        \n",
    "        ########### SELECT ACTION a for your current state using Q-values ##################\n",
    "        # for example, choosing greedily:\n",
    "        prob = np.random.random()\n",
    "        greedy_action = np.argmax(Q[state,:])\n",
    "        epsilon = epsilon * epsilon_decay\n",
    "        epsilon = max(epsilon, min_epsilon)\n",
    "        \n",
    "        if prob > epsilon:\n",
    "            action = greedy_action\n",
    "        else:\n",
    "            action = np.random.choice([x for x in range(env.nA) if x != greedy_action])\n",
    "        \n",
    "        # new state, reward, done\n",
    "        newstate, reward, finished, _ = env.step(action)        \n",
    "        qmax = np.max(Q[newstate,:])\n",
    "        old_q = Q[state, action]\n",
    "        new_q = old_q + learnRate * (reward + gamma * qmax - old_q)\n",
    "        Q[state, action] = new_q\n",
    "\n",
    "        rewards += reward\n",
    "        \n",
    "        # stop if we have reached terminal state \n",
    "        if finished:\n",
    "            break\n",
    "        # update state\n",
    "        state = newstate\n",
    "    reward_of_episodes.append(rewards) \n",
    "    epsilons.append(epsilon)"
   ]
  },
  {
   "cell_type": "markdown",
   "id": "unnecessary-relations",
   "metadata": {
    "id": "unnecessary-relations"
   },
   "source": [
    "- Construct `reward_of_episodes`, a list with the total rewards of each episode (these rewards do not need to be discounted)\n",
    "- Plot the moving average of the list\n",
    "- Ideally you want to achieve a reward greater than 0.7 (the problem is technically considered solved for 0.78)"
   ]
  },
  {
   "cell_type": "code",
   "execution_count": 7,
   "id": "answering-boards",
   "metadata": {
    "id": "answering-boards"
   },
   "outputs": [],
   "source": [
    "# You don't need to change the code here.\n",
    "# you can use this function to plot the moving average of a list\n",
    "from numpy import convolve, ones\n",
    "def movingaverage(interval, window_size):\n",
    "    window= np.ones(int(window_size))/float(window_size)\n",
    "    return np.convolve(interval, window, 'valid')\n",
    "from pylab import plot"
   ]
  },
  {
   "cell_type": "code",
   "execution_count": 8,
   "id": "aware-dictionary",
   "metadata": {
    "id": "aware-dictionary"
   },
   "outputs": [
    {
     "data": {
      "text/plain": [
       "[<matplotlib.lines.Line2D at 0x7f05b880b880>]"
      ]
     },
     "execution_count": 8,
     "metadata": {},
     "output_type": "execute_result"
    },
    {
     "data": {
      "image/png": "[encoded data removed]",
      "text/plain": [
       "<Figure size 432x288 with 1 Axes>"
      ]
     },
     "metadata": {
      "needs_background": "light"
     },
     "output_type": "display_data"
    }
   ],
   "source": [
    "# Plot the moving average of total undiscounted reward across episodes here\n",
    "rm=movingaverage(reward_of_episodes, 100)\n",
    "plot(rm)"
   ]
  },
  {
   "cell_type": "code",
   "execution_count": 9,
   "id": "45f754fa",
   "metadata": {},
   "outputs": [
    {
     "data": {
      "text/plain": [
       "[<matplotlib.lines.Line2D at 0x7f05b8770f70>]"
      ]
     },
     "execution_count": 9,
     "metadata": {},
     "output_type": "execute_result"
    },
    {
     "data": {
      "image/png": "[encoded data removed]",
      "text/plain": [
       "<Figure size 432x288 with 1 Axes>"
      ]
     },
     "metadata": {
      "needs_background": "light"
     },
     "output_type": "display_data"
    }
   ],
   "source": [
    "# Plot the moving average of total undiscounted reward across episodes here\n",
    "rm=movingaverage(epsilons, 100)\n",
    "plot(epsilons)"
   ]
  },
  {
   "cell_type": "markdown",
   "id": "sexual-aviation",
   "metadata": {
    "id": "sexual-aviation"
   },
   "source": [
    "#  SARSA\n",
    "\n",
    "- In the following you will implement SARSA with epsilon-greedy exploration.  \n",
    "    - You can experiment with fixed and adaptive learning rate and epsilon\n",
    "    - Report your best result and mention the differences you observed in answer to final questions"
   ]
  },
  {
   "cell_type": "code",
   "execution_count": 135,
   "id": "careful-quick",
   "metadata": {
    "id": "careful-quick"
   },
   "outputs": [],
   "source": [
    "#initialize episodic structure - again try to maintain these two parameters as they are for your final submission\n",
    "num_episodes=5000;\n",
    "episode_max_length=100;\n",
    "\n",
    "#initialize discount factor, learning rate\n",
    "gamma=0.95\n",
    "learnRate = 0.8\n",
    "epsilon = 1.\n",
    "min_epsilon = 0.005\n",
    "epsilon_decay = 0.999\n",
    "\n",
    "\n",
    "#create Q table\n",
    "Q=np.zeros([env.nS,env.nA]) #matrix Q[s,a]\n",
    "reward_of_episodes = [] # list containing total reward of each episode\n",
    "epsilons = []\n",
    "\n",
    "#execute in episodes\n",
    "for episode in range(num_episodes):\n",
    "    \n",
    "    state = env.reset()\n",
    "    rewards = 0\n",
    "\n",
    "    for t in range(episode_max_length):\n",
    "        \n",
    "        ########### SELECT ACTION a for your current state using Q-values ##################\n",
    "        # for example, choosing greedily:\n",
    "        epsilon = epsilon * epsilon_decay\n",
    "        epsilon = max(epsilon, min_epsilon)\n",
    "        \n",
    "        prob = np.random.random()\n",
    "        greedy_action = np.argmax(Q[state,:])\n",
    "        \n",
    "        if prob > epsilon:\n",
    "            action = greedy_action\n",
    "        else:\n",
    "            action = np.random.choice([x for x in range(env.nA) if x != greedy_action])\n",
    "        \n",
    "        # new state, reward, done\n",
    "        newstate, reward, finished, _ = env.step(action)\n",
    "        \n",
    "        newprob = np.random.random()\n",
    "        new_greedy_action = np.argmax(Q[newstate,:])\n",
    "        \n",
    "        if newprob > epsilon:\n",
    "            newaction = new_greedy_action\n",
    "        else:\n",
    "            newaction = np.random.choice([x for x in range(env.nA) if x != new_greedy_action])\n",
    "            \n",
    "#         newnewstate, newreward, newfinished, _ = env.step(newaction)\n",
    "        \n",
    "        old_q = Q[state, action]\n",
    "        next_q = Q[newstate, newaction]\n",
    "        new_q = old_q + learnRate * (reward + gamma * next_q - old_q)\n",
    "        Q[state, action] = new_q\n",
    "\n",
    "        rewards += reward\n",
    "        \n",
    "        # stop if we have reached terminal state \n",
    "        if finished:\n",
    "            break\n",
    "        # update state\n",
    "        state = newstate\n",
    "    reward_of_episodes.append(rewards) \n",
    "    epsilons.append(epsilon)"
   ]
  },
  {
   "cell_type": "code",
   "execution_count": 136,
   "id": "complete-absence",
   "metadata": {
    "id": "complete-absence"
   },
   "outputs": [
    {
     "data": {
      "text/plain": [
       "[<matplotlib.lines.Line2D at 0x7f05b66219a0>]"
      ]
     },
     "execution_count": 136,
     "metadata": {},
     "output_type": "execute_result"
    },
    {
     "data": {
      "image/png": "[encoded data removed]",
      "text/plain": [
       "<Figure size 432x288 with 1 Axes>"
      ]
     },
     "metadata": {
      "needs_background": "light"
     },
     "output_type": "display_data"
    }
   ],
   "source": [
    "# Plot the moving average of total reward across episodes here\n",
    "rm=movingaverage(reward_of_episodes, 100)\n",
    "plot(rm)"
   ]
  },
  {
   "cell_type": "code",
   "execution_count": 137,
   "id": "907bfcf2",
   "metadata": {},
   "outputs": [
    {
     "data": {
      "text/plain": [
       "[<matplotlib.lines.Line2D at 0x7f05b658c790>]"
      ]
     },
     "execution_count": 137,
     "metadata": {},
     "output_type": "execute_result"
    },
    {
     "data": {
      "image/png": "[encoded data removed]",
      "text/plain": [
       "<Figure size 432x288 with 1 Axes>"
      ]
     },
     "metadata": {
      "needs_background": "light"
     },
     "output_type": "display_data"
    }
   ],
   "source": [
    "rm=movingaverage(epsilons, 100)\n",
    "plot(rm)"
   ]
  },
  {
   "cell_type": "markdown",
   "id": "beautiful-australian",
   "metadata": {
    "id": "beautiful-australian"
   },
   "source": [
    "#### How do your algorithms perform for different values of epsilon? Adaptive methods vs Fixed methods?\n",
    "Adaptive methods works better for the epsilon, the reasoning is because at the start of the algorithm, the there is a huge variance in the Q values, and thus the maximum Q values selected to be the greedy action might not be an optimal action, and thus we should have higher value of epsilon. However, nearing the end of the episodes, when the Q value has converged, we should exploit and choose the greedy action as our policy more, and thus small value of epsilon will ensure us to do that\n",
    "\n",
    "#### How do your algorithms perform for different values of the learning rate? Adaptive methods vs Fixed methods?\n",
    "Adaptive methods works better for the learning rate. In the beginning, the initialization of the Q values might be off, and thus high learning rate helps the Q values to converge quickly to the true value. Nevertheless, near the end of the epochs, our Q values has converged, and thus we want to let it converge and does not want to introduce large stochasticity on the Q values.\n",
    "\n",
    "#### With a fixed epsilon and under identical learning rate rules and gamma value, compare the performance of Q-learning and SARSA. \n",
    "Q learning in my experiment works better compared to SARSA. Nevertheless, it might be due to different hyperparameter optimization, as in theory both of the method converges to the true Q value and thus giving us optimal policy"
   ]
  },
  {
   "cell_type": "code",
   "execution_count": null,
   "id": "ca288384",
   "metadata": {},
   "outputs": [],
   "source": []
  }
 ],
 "metadata": {
  "colab": {
   "collapsed_sections": [],
   "name": "Lab_1_Frozen_Lake_Part_2.ipynb",
   "provenance": []
  },
  "kernelspec": {
   "display_name": "Python 3 (ipykernel)",
   "language": "python",
   "name": "python3"
  },
  "language_info": {
   "codemirror_mode": {
    "name": "ipython",
    "version": 3
   },
   "file_extension": ".py",
   "mimetype": "text/x-python",
   "name": "python",
   "nbconvert_exporter": "python",
   "pygments_lexer": "ipython3",
   "version": "3.8.10"
  }
 },
 "nbformat": 4,
 "nbformat_minor": 5
}
